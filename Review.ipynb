{
  "nbformat": 4,
  "nbformat_minor": 0,
  "metadata": {
    "colab": {
      "provenance": [],
      "authorship_tag": "ABX9TyNA0QdtibadttxUqvogPyg/",
      "include_colab_link": true
    },
    "kernelspec": {
      "name": "python3",
      "display_name": "Python 3"
    },
    "language_info": {
      "name": "python"
    }
  },
  "cells": [
    {
      "cell_type": "markdown",
      "metadata": {
        "id": "view-in-github",
        "colab_type": "text"
      },
      "source": [
        "<a href=\"https://colab.research.google.com/github/BriDeWaltCCC/spring2022demo/blob/main/Review.ipynb\" target=\"_parent\"><img src=\"https://colab.research.google.com/assets/colab-badge.svg\" alt=\"Open In Colab\"/></a>"
      ]
    },
    {
      "cell_type": "code",
      "execution_count": null,
      "metadata": {
        "id": "oD9YGKhzPOPE"
      },
      "outputs": [],
      "source": [
        "import pandas as pd\n",
        "from matplotlib import pyplot as plt\n",
        "\n",
        "fig = plt.figure(figsize=(5,20))\n",
        "\n",
        "ax1 = plt.subplot(3,1,1)\n",
        "ax2 = plt.subplot(3,1,2)\n",
        "ax3 = plt.subplot(3,1,3)\n",
        "\n",
        "ax1.plot([1,2,3,4],[1,2,3,4])\n",
        "\n",
        "plt.show()"
      ]
    },
    {
      "cell_type": "code",
      "source": [
        "fig, axs = plt.subplots(3,1,figsize=(5,20))\n",
        "\n",
        "axs[1].plot([1,2,3,4],[1,2,3,4])\n",
        "\n",
        "plt.show()"
      ],
      "metadata": {
        "id": "3Fs4wuwbQf9I"
      },
      "execution_count": null,
      "outputs": []
    },
    {
      "cell_type": "code",
      "source": [
        "data = {'column1':[1,2,3,4,5], 'column2':['$2','$ 5','$  6','$1','$    7']}\n",
        "df = pd.DataFrame(data)\n",
        "\n",
        "new_column = []\n",
        "\n",
        "for price in df['column2']:\n",
        "  new_column.append(price[1:].strip())\n",
        "\n",
        "df['column3'] = new_column\n",
        "\n",
        "df['column3'] = df['column3'].astype('i')\n",
        "\n",
        "fig, ax = plt.subplots()\n",
        "\n",
        "ax.plot(df['column1'],df['column3'], label='two')\n",
        "ax.plot(df['column1'], [4,6,8,9,1], label='one')\n",
        "ax.legend()\n",
        "plt.show()"
      ],
      "metadata": {
        "id": "10fJla9mXM5z",
        "colab": {
          "base_uri": "https://localhost:8080/",
          "height": 265
        },
        "outputId": "509fdd37-7545-490d-be59-4ca42449702a"
      },
      "execution_count": null,
      "outputs": [
        {
          "output_type": "display_data",
          "data": {
            "text/plain": [
              "<Figure size 432x288 with 1 Axes>"
            ],
            "image/png": "[encoded data removed]"
          },
          "metadata": {
            "needs_background": "light"
          }
        }
      ]
    },
    {
      "cell_type": "code",
      "source": [
        "set1 = set()\n",
        "set2 = {1,2,3,'hello'}\n",
        "print(set2)"
      ],
      "metadata": {
        "colab": {
          "base_uri": "https://localhost:8080/"
        },
        "id": "pShPGeNaj3BA",
        "outputId": "c458fee9-3570-40f7-f2b0-aa5890302261"
      },
      "execution_count": null,
      "outputs": [
        {
          "output_type": "stream",
          "name": "stdout",
          "text": [
            "{1, 2, 3, 'hello'}\n"
          ]
        }
      ]
    }
  ]
}